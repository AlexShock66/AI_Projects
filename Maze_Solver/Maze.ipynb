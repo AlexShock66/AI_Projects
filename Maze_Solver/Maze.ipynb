{
 "cells": [
  {
   "cell_type": "markdown",
   "metadata": {},
   "source": [
    "# Search: Solving a Maze Using a Goal-based Agent\n",
    "\n",
    "## Instructions\n",
    "\n",
    "Total Points: Undergrads 100 / Graduate students 110\n",
    "\n",
    "Complete this notebook. Use the provided notebook cells and insert additional code and markdown cells as needed. Submit the completely rendered notebook as a PDF file. \n",
    "\n",
    "\n",
    "## Introduction\n",
    "\n",
    "The agent has a map of the maze it is in and the environment is assumed to be **deterministic, discrete, and known.** The agent must use the map to plan a path through the maze from the starting location $S$ to the goal location $G$.  This is a planing exercise for a goal-based agent, so you do not need to implement an environment, just use the map to search for a path. Once the plan is made, the agent in a deterministic environment (i.e., the transition function is deterministic with the outcome of each state/action pair fixed and no randomness) can just follow the path and does not need to care about the percepts.\n",
    "This is also called an **[open-loop system](https://en.wikipedia.org/wiki/Open-loop_controller).**\n",
    "The execution phase is trivial and we do not implement it in this exercise.\n",
    "\n",
    "Tree search algorithm implementations that you find online and used in general algorithms courses have often a different aim. These algorithms assume that you already have a tree in memory. We are interested in dynamically creating a search tree with the aim of finding a good/the best path from the root noteto the goal state. Follow the pseudo code presented in the text book (and replicated in the slides) closely. Ideally, we would like to search only a small part of the maze, i.e., create a search tree with as few nodes as possible. \n",
    "\n",
    "Several mazes for this exercise are stored as text files. Here is the small example maze:"
   ]
  },
  {
   "cell_type": "code",
   "execution_count": 1,
   "metadata": {},
   "outputs": [
    {
     "name": "stdout",
     "output_type": "stream",
     "text": [
      "XXXXXXXXXXXXXXXXXXXXXX\n",
      "X XX        X X      X\n",
      "X    XXXXXX X XXXXXX X\n",
      "XXXXXX     S  X      X\n",
      "X    X XXXXXX XX XXXXX\n",
      "X XXXX X         X   X\n",
      "X        XXX XXX   X X\n",
      "XXXXXXXXXX    XXXXXX X\n",
      "XG         XX        X\n",
      "XXXXXXXXXXXXXXXXXXXXXX\n",
      "\n"
     ]
    }
   ],
   "source": [
    "with open(\"small_maze.txt\", \"r\") as f:\n",
    "    maze_str = f.read()\n",
    "print(maze_str)"
   ]
  },
  {
   "cell_type": "markdown",
   "metadata": {},
   "source": [
    "__Note:__ The mazes above contains cycles and therefore the state space may not form proper trees unless cycles are prevented. Therfore, you will need to deal with cycle detection in your code."
   ]
  },
  {
   "cell_type": "markdown",
   "metadata": {},
   "source": [
    "## Parsing and pretty printing the maze\n",
    "\n",
    "The maze can also be displayed in color using code in the module [maze_helper.py](maze_helper.py). The code parses the string representing the maze and converts it into a `numpy` 2d array which you can use in your implementation. Position are represented as a 2-tuple of the form `(row, col)`. "
   ]
  },
  {
   "cell_type": "code",
   "execution_count": 2,
   "metadata": {
    "tags": []
   },
   "outputs": [
    {
     "name": "stdout",
     "output_type": "stream",
     "text": [
      "Position(0,0): X\n",
      "Position(8,1): G\n"
     ]
    }
   ],
   "source": [
    "import maze_helper as mh\n",
    "\n",
    "maze = mh.parse_maze(maze_str)\n",
    "\n",
    "# look at a position in the maze by subsetting the 2d array\n",
    "print(\"Position(0,0):\", maze[0, 0])\n",
    "\n",
    "# there is also a helper function called `look(maze, pos)` available\n",
    "# which uses a 2-tuple for the position.\n",
    "print(\"Position(8,1):\", mh.look(maze, (8, 1)))"
   ]
  },
  {
   "cell_type": "markdown",
   "metadata": {},
   "source": [
    "A helper function to visualize the maze is also available."
   ]
  },
  {
   "cell_type": "code",
   "execution_count": 3,
   "metadata": {},
   "outputs": [
    {
     "data": {
      "image/png": "[encoded data removed]",
      "text/plain": [
       "<Figure size 640x480 with 1 Axes>"
      ]
     },
     "metadata": {
      "image/png": {
       "height": 269,
       "width": 534
      }
     },
     "output_type": "display_data"
    }
   ],
   "source": [
    "%matplotlib inline\n",
    "%config InlineBackend.figure_format = 'retina'\n",
    "# use higher resolution images in notebook\n",
    "\n",
    "mh.show_maze(maze)"
   ]
  },
  {
   "cell_type": "markdown",
   "metadata": {},
   "source": [
    "Find the position of the start and the goal using the helper function `find_pos()`"
   ]
  },
  {
   "cell_type": "code",
   "execution_count": 4,
   "metadata": {},
   "outputs": [
    {
     "name": "stdout",
     "output_type": "stream",
     "text": [
      "Start location: (3, 11)\n",
      "Goal location: (8, 1)\n"
     ]
    }
   ],
   "source": [
    "print(\"Start location:\", mh.find_pos(maze, what = \"S\"))\n",
    "print(\"Goal location:\", mh.find_pos(maze, what = \"G\"))"
   ]
  },
  {
   "cell_type": "markdown",
   "metadata": {},
   "source": [
    "Helper function documentation."
   ]
  },
  {
   "cell_type": "code",
   "execution_count": 5,
   "metadata": {},
   "outputs": [
    {
     "name": "stdout",
     "output_type": "stream",
     "text": [
      "Help on module maze_helper:\n",
      "\n",
      "NAME\n",
      "    maze_helper\n",
      "\n",
      "DESCRIPTION\n",
      "    Code for the Maze Assignment by Michael Hahsler\n",
      "    Usage: \n",
      "        import maze_helper as mh\n",
      "        mh.show_some_mazes()\n",
      "\n",
      "FUNCTIONS\n",
      "    find_pos(maze, what='S')\n",
      "        Find start/goal in a maze and returns the first one. \n",
      "        Caution: there is no error checking!\n",
      "        \n",
      "        Parameters:\n",
      "        maze: a array with characters prodced by parse_maze()\n",
      "        what: the letter to be found ('S' for start and 'G' for goal)\n",
      "        \n",
      "        Returns:\n",
      "        a tupple (x, y) for the found position.\n",
      "    \n",
      "    look(maze, pos)\n",
      "        Look at the label of a square with the position as an array of the form (x, y).\n",
      "    \n",
      "    parse_maze(maze_str)\n",
      "        Convert a maze as a string into a 2d numpy array\n",
      "    \n",
      "    show_maze(maze, fontsize=10)\n",
      "        Display a (parsed) maze as an image.\n",
      "    \n",
      "    welcome()\n",
      "        Welcome message.\n",
      "\n",
      "FILE\n",
      "    /Users/shockley/Desktop/School/AI/CS7320-AI/Search/maze_helper.py\n",
      "\n",
      "\n"
     ]
    }
   ],
   "source": [
    "help(mh)"
   ]
  },
  {
   "cell_type": "markdown",
   "metadata": {},
   "source": [
    "## Tree structure\n",
    "\n",
    "Here is an implementation of the basic node structure for the search algorithms (see Fig 3.7 on page 73). I have added a method that extracts the path from the root node to the current node. It can be used to get the path when the search is completed."
   ]
  },
  {
   "cell_type": "code",
   "execution_count": 6,
   "metadata": {},
   "outputs": [],
   "source": [
    "class Node:\n",
    "    def __init__(self, pos, parent, action, cost):\n",
    "        self.pos = tuple(pos)    # the state; positions are (row,col)\n",
    "        self.parent = parent     # reference to parent node. None means root node.\n",
    "        self.action = action     # action used in the transition function (root node has None)\n",
    "        self.cost = cost\n",
    "        self.dist_from_start = len(self.get_path_from_root()) - 1\n",
    "        self.dist_to_goal = 0         # for uniform cost this is the depth. It is also g(n) for A* search\n",
    "\n",
    "    def __str__(self):\n",
    "        return f\"Node - pos = {self.pos}; action = {self.action}; cost = {self.cost}\"\n",
    "    \n",
    "    def get_path_from_root(self):\n",
    "        \"\"\"returns nodes on the path from the root to the current node.\"\"\"\n",
    "        node = self\n",
    "        path = [node]\n",
    "    \n",
    "        while not node.parent is None:\n",
    "            node = node.parent\n",
    "            path.append(node)\n",
    "        \n",
    "        path.reverse()\n",
    "        \n",
    "        return(path)\n",
    "    def __eq__(self,other):\n",
    "        return self.pos[0] == other.pos[0] and self.pos[1] == other.pos[1]\n",
    "    def __lt__(self,other):\n",
    "        return self.cost < other.cost\n",
    "    def __gt__(self,other):\n",
    "        return self.cost > other.cost\n",
    "    def __ge__(self,other):\n",
    "        return self.cost >= other.cost\n",
    "    def __le__(self,other):\n",
    "        return self.cost <= other.cost\n",
    "    def calc_dist_to_goal(self,goal):\n",
    "        self.dist_to_goal = abs(self.pos[0] - goal.pos[0]) + abs(self.pos[1] - goal.pos[1])\n",
    "        return self.dist_to_goal\n",
    "    def __hash__(self):\n",
    "        return hash(self.pos)\n",
    "    def __ne__(self,other):\n",
    "        return not(self == other)"
   ]
  },
  {
   "cell_type": "markdown",
   "metadata": {},
   "source": [
    "If needed, then you can add more fields to the class like the heuristic value $h(n)$ or $f(n)$.\n",
    "\n",
    "Examples for how to create and use a tree and information on memory management can be found [here](../Python_Code_Examples/trees.ipynb)."
   ]
  },
  {
   "cell_type": "markdown",
   "metadata": {},
   "source": [
    "# Tasks\n",
    "\n",
    "The goal is to:\n",
    "\n",
    "1. Implement the following search algorithms for solving different mazes:\n",
    "\n",
    "    - Breadth-first search (BFS)\n",
    "    - Depth-first search (DFS)\n",
    "    - Greedy best-first search (GBFS)\n",
    "    - A* search\n",
    "\n",
    "2. Run each of the above algorithms on the \n",
    "    - [small maze](small_maze.txt), \n",
    "    - [medium maze](medium_maze.txt), \n",
    "    - [large maze](large_maze.txt), \n",
    "    - [open maze](open_maze.txt),\n",
    "    - [wall maze](wall_maze.txt),\n",
    "    - [loops maze](loops_maze.txt),\n",
    "    - [empty maze](empty_maze.txt), and\n",
    "    - [empty 2_maze](empty_2_maze.txt).\n",
    "    \n",
    "3. For each problem instance and each search algorithm, report the following in a table:\n",
    "\n",
    "    - The solution and its path cost\n",
    "    - Total number of nodes expanded\n",
    "    - Maximum tree depth\n",
    "    - Maximum size of the frontier\n",
    "\n",
    "4. Display each solution by marking every maze square (or state) visited and the squares on the final path.\n",
    "\n",
    "## General [10 Points]\n",
    "\n",
    "1. Make sure that you use the latest version of this notebook. Sync your forked repository and pull the latest revision. \n",
    "2. Your implementation can use libraries like math, numpy, scipy, but not libraries that implement inteligent agents or complete search algorithms. Try to keep the code simple! In this course, we want to learn about the algorithms and we often do not need to use object-oriented design.\n",
    "3. You notebook needs to be formated professionally. \n",
    "    - Add additional markdown blocks for your description, comments in the code, add tables and use mathplotlib to produce charts where appropriate\n",
    "    - Do not show debugging output or include an excessive amount of output.\n",
    "    - Check that your PDF file is readable. For example, long lines are cut off in the PDF file. You don't have control over page breaks, so do not worry about these.\n",
    "4. Document your code. Add a short discussion of how your implementation works and your design choices."
   ]
  },
  {
   "cell_type": "markdown",
   "metadata": {},
   "source": [
    "## Task 1: Defining the search problem and determining the problem size [10 Points]\n",
    "\n",
    "Define the components of the search problem:\n",
    "\n",
    "* Initial state\n",
    "* Actions\n",
    "* Transition model\n",
    "* Goal state\n",
    "* Path cost\n",
    "\n",
    "Use verbal descriptions, variables and equations as appropriate. \n",
    "\n",
    "*Note:* You can swich the next block from code to Markdown and use formating."
   ]
  },
  {
   "cell_type": "markdown",
   "metadata": {},
   "source": [
    "#### Initial State\n",
    "    The initial state of the search problem takes into account where the walls are, where the goal is, and where the agent starts and is used as a starting point for where to go for the agent.\n",
    "#### Actions\n",
    "    The valid actions for any agent in this type of discrete environment are moving North, South, East, or West as we forbid the agent from moving diagonaly across the maze.\n",
    "#### Transition Model\n",
    "    The transition model determines what state the agent will be in after it takes a certain action. Meaning that if an agent takes an action to move east, what state is it currently in?\n",
    "#### Goal State\n",
    "    The goal state for this agent means that the agent is currently standing on the same square as the goal as this means that it has completed the maze\n",
    "#### Path Cost\n",
    "    This is a measure of how good or bad a path is, the lower the path cost, the fewer 'moves' the agent had to take to get from the start to the goal. This is used as a metric to determine if a search algorithm is optimal or not."
   ]
  },
  {
   "cell_type": "code",
   "execution_count": 7,
   "metadata": {},
   "outputs": [
    {
     "data": {
      "image/png": "[encoded data removed]",
      "text/plain": [
       "<Figure size 640x480 with 1 Axes>"
      ]
     },
     "metadata": {
      "image/png": {
       "height": 269,
       "width": 534
      }
     },
     "output_type": "display_data"
    }
   ],
   "source": [
    "# Your answer goes here\n",
    "%matplotlib inline\n",
    "%config InlineBackend.figure_format = 'retina'\n",
    "# use higher resolution images in notebook\n",
    "\n",
    "mh.show_maze(maze)"
   ]
  },
  {
   "cell_type": "markdown",
   "metadata": {},
   "source": [
    "Give some estimates for the problem size:\n",
    "\n",
    "* $n$: state space size\n",
    "* $d$: depth of the optimal solution\n",
    "* $m$: maximum depth of tree\n",
    "* $b$: maximum branching factor\n",
    "\n",
    "Describe how you would determin these values for a given maze."
   ]
  },
  {
   "cell_type": "markdown",
   "metadata": {},
   "source": [
    "The state space size could be attributed to the number of spaces in the maze that we are looking at. Meaning the area of the maze minus the number of walls as this is the total number of different positions that our agent could exist in.\n",
    "\n",
    "The depth of the optimal solution can be estimated such that the lower bound is the manhattan distance from the start to the goal. However, this is not accurate unless there are no walls in the way\n",
    "\n",
    "The maximum depth of the tree could be estimated to be a value like infinity if there exist loops in a maze because a search algorithm, such as DFS, might continually run in circles and get stuck forever in the loop.\n",
    "\n",
    "The maximum branching factor for any of the mazes is undoubtedly 4 because this means that from any given node n, there could be a maximum of 4 valid actions: North, South, East, West."
   ]
  },
  {
   "cell_type": "markdown",
   "metadata": {},
   "source": [
    "## Task 2: Uninformed search: Breadth-first and depth-first [40 Points]\n",
    "\n",
    "Implement these search strategies. Follow the pseudocode in the textbook/slides. You can use the tree structure shown above to extract the final path from your solution.\n",
    "\n",
    "__Notes:__\n",
    "* You can find maze solving implementations online that use the map to store information. While this is an effective idea for this two-dimensional navigation problem, it typically cannot be used for other search problems. Therefore, follow the textbook and only store information in the tree created during search, and use the `reached` and `frontier` data structures.\n",
    "* DSF can be implemented using the BFS tree search algorithm and simply changing the order in which the frontier is expanded (this is equivalent to best-first search with path length as the criterion to expand the next node). However, to take advantage of the significantly smaller memory footprint of DFS, you need to implement DFS in a different way without a `reached` data structure and by releasing the memory for nodes that are not needed anymore. \n",
    "* If DFS does not use a `reached` data structure, then its cycle checking abilities are limited. Remember, that DSF is incomplete if cycles cannot be prevented. You will see in your experiments that open spaces are a problem."
   ]
  },
  {
   "cell_type": "code",
   "execution_count": 8,
   "metadata": {},
   "outputs": [],
   "source": [
    "import pathlib\n",
    "import random\n",
    "import numpy as np\n",
    "from matplotlib import colors\n",
    "from matplotlib import animation, rc\n",
    "from IPython.display import HTML\n",
    "import matplotlib.pyplot as plt\n",
    "from matplotlib import colors\n",
    "rc('animation', html='html5')\n",
    "\n",
    "# numpy comparison warnings\n",
    "import warnings\n",
    "warnings.simplefilter(action='ignore', category=FutureWarning)\n",
    "class helper_functions:\n",
    "    @classmethod\n",
    "    def find_children(self,node:Node,maze):\n",
    "        x_pos = node.pos[0]\n",
    "        y_pos = node.pos[1]\n",
    "        children= []\n",
    "        if(x_pos + 1 <= len(maze[y_pos])):\n",
    "            if(maze[y_pos][x_pos + 1] != 'X'):\n",
    "                children.append(Node((x_pos + 1,y_pos),node,'east',1 + node.cost))\n",
    "        if(x_pos - 1 >= 0 ):\n",
    "            if(maze[y_pos][x_pos - 1] != 'X'):\n",
    "                children.append(Node((x_pos - 1,y_pos),node,'west',1 + node.cost))\n",
    "        if(y_pos - 1 >= 0 ):\n",
    "            if(maze[y_pos - 1][x_pos] != 'X'):\n",
    "                children.append(Node((x_pos,y_pos - 1),node,'north',1 + node.cost))\n",
    "        if(y_pos + 1 <= len(maze)):\n",
    "            if(maze[y_pos + 1][x_pos] != 'X'):\n",
    "                children.append(Node((x_pos,y_pos + 1),node,'south',1 + node.cost))\n",
    "        random.shuffle(children)\n",
    "        return (children)\n",
    "    @classmethod\n",
    "    def print_path(self,path):\n",
    "        for val in path:\n",
    "            print(val.pos,'--> ',end='')\n",
    "    @classmethod\n",
    "    def paint_path(self,path,maze,value):\n",
    "        for val in path:\n",
    "            if  maze[val.pos[1]][val.pos[0]] != 'S' and maze[val.pos[1]][val.pos[0]] != 'G':\n",
    "                maze[val.pos[1]][val.pos[0]] = value\n",
    "\n",
    "    @classmethod\n",
    "    def open_maze(self,filename):\n",
    "        with open(filename, \"r\") as f:\n",
    "            maze_str = f.read()\n",
    "        return mh.parse_maze(maze_str)\n",
    "\n",
    "    @classmethod\n",
    "    def maze_to_matrix(self,maze):  \n",
    "        \"\"\"convert a maze a numeric numpy array for visualization via imshow.\"\"\"\n",
    "\n",
    "        # make a deep copy first so the original maze is not changed\n",
    "        maze = np.copy(maze)\n",
    "        \n",
    "        # Converts all tile types to integers\n",
    "        maze[maze == ' '] = 0\n",
    "        maze[maze == 'X'] = 1 # wall\n",
    "        maze[maze == 'S'] = 2 # start\n",
    "        maze[maze == 'G'] = 3 # goal\n",
    "        maze[maze == 'P'] = 4 # position/final path\n",
    "        maze[maze == '.'] = 5 # explored squares\n",
    "        maze[maze == 'F'] = 6 # frontier\n",
    "        maze = maze.astype(int)\n",
    "        \n",
    "        return(maze)\n",
    "    \n",
    " \n",
    "# Based on show_maze but modified to generate animation (suggested by Troy Jeffrey McNitt)\n",
    "# Sadly I can not embed the animations in the PDF I have to submit :(\n",
    "    @classmethod\n",
    "    def animate_maze(self,result, fileName,repeat = False):\n",
    "            \"\"\"Build an animation from a list of mazes. Assumes that results has the elements:\n",
    "            path, reached, actions and maze_anim with a list of maze arrays.\"\"\"\n",
    "            \n",
    "            if result['path'] != None:       \n",
    "                print(f\"Path length: {len(result['path'])-1}\")\n",
    "                print(f\"Reached squares: {len(result['reached'])}\")\n",
    "                # print(f\"Action sequence: {result['actions']}\")\n",
    "            else:\n",
    "                print(\"No solution found.\")\n",
    "            \n",
    "            \n",
    "            mazes = result['maze_anim']\n",
    "            \n",
    "            cmap = colors.ListedColormap(['white', 'black', 'blue', 'green', 'red', 'gray', 'orange'])\n",
    "    \n",
    "            goal = mh.find_pos(mazes[0], 'G')\n",
    "            start = mh.find_pos(mazes[0], 'S')\n",
    "    \n",
    "            mazes = [self.maze_to_matrix(m) for m in mazes]\n",
    "\n",
    "            fig, ax = mh.plt.subplots()\n",
    "            im = ax.imshow(self.maze_to_matrix(mazes[0]), cmap = cmap, norm = colors.BoundaryNorm(list(range(cmap.N + 1)), cmap.N))\n",
    "    \n",
    "            mh.plt.text(start[1], start[0], \"S\", fontsize = 10, color = \"white\",\n",
    "                    horizontalalignment = 'center',\n",
    "                    verticalalignment = 'center')\n",
    "    \n",
    "            mh.plt.text(goal[1], goal[0], \"G\", fontsize = 10, color = \"white\",\n",
    "                    horizontalalignment = 'center',\n",
    "                    verticalalignment = 'center')\n",
    "\n",
    "            def step(i):  \n",
    "                    im.set_array(self.maze_to_matrix(mazes[i]))\n",
    "                    return([im])\n",
    "    \n",
    "            ani = animation.FuncAnimation(\n",
    "                fig, \n",
    "                step, \n",
    "                frames = len(mazes),\n",
    "                repeat = repeat\n",
    "            )\n",
    "    \n",
    "            mh.plt.close()\n",
    "            ani.save('gifs/'+fileName,writer='ffmeg')\n",
    "            # return ani\n",
    "        \n",
    "\n"
   ]
  },
  {
   "cell_type": "code",
   "execution_count": 9,
   "metadata": {},
   "outputs": [
    {
     "data": {
      "image/png": "[encoded data removed]",
      "text/plain": [
       "<Figure size 640x480 with 1 Axes>"
      ]
     },
     "metadata": {
      "image/png": {
       "height": 269,
       "width": 534
      }
     },
     "output_type": "display_data"
    },
    {
     "data": {
      "image/png": "[encoded data removed]",
      "text/plain": [
       "<Figure size 640x480 with 1 Axes>"
      ]
     },
     "metadata": {
      "image/png": {
       "height": 269,
       "width": 534
      }
     },
     "output_type": "display_data"
    }
   ],
   "source": [
    "# Your code goes here\n",
    "def breadth_first_search(maze, animate=False):\n",
    "    start = Node(mh.find_pos(maze, what = \"S\"),None,None,0)\n",
    "    start.pos = (start.pos[1],start.pos[0])\n",
    "    goal = Node(mh.find_pos(maze,what=\"G\"),None,None,0)\n",
    "    goal.pos = (goal.pos[1],goal.pos[0])\n",
    "    queue = [start]\n",
    "    reached = [start]\n",
    "    mazes = []\n",
    "    i = 0\n",
    "    num_nodes_expanded = 0\n",
    "    max_tree_depth = 0\n",
    "    max_num_nodes_memory = 0\n",
    "    max_frontier_size = 0\n",
    "    while (len(queue) != 0):\n",
    "        # print(i)\n",
    "        if(animate):\n",
    "            currMaze = maze.copy()\n",
    "            helper_functions.paint_path(reached,currMaze,'.')\n",
    "            helper_functions.paint_path(queue,currMaze,'F')\n",
    "            mazes.append(currMaze)\n",
    "        i += 1\n",
    "        if(len(queue) > max_frontier_size): max_frontier_size = len(queue)\n",
    "        \n",
    "        curr = queue.pop(0)\n",
    "        if(len(curr.get_path_from_root()) > max_tree_depth): max_tree_depth = len(curr.get_path_from_root())\n",
    "        num_nodes_expanded = num_nodes_expanded + 1\n",
    "        if(len(queue) + len(reached) > max_num_nodes_memory): max_num_nodes_memory = len(queue) + len(reached)\n",
    "        \n",
    "        for child in helper_functions.find_children(curr,maze):\n",
    "            if(child == goal or maze[child.pos[1]][child.pos[0]] == 'G'):\n",
    "                full_path = child.get_path_from_root()\n",
    "                final_path_maze = maze.copy()\n",
    "                helper_functions.paint_path(full_path,final_path_maze,'P')\n",
    "                mazes.append(final_path_maze)\n",
    "                if(animate):\n",
    "                    mazes.append(final_path_maze)\n",
    "                    mazes.append(final_path_maze)\n",
    "                    mazes.append(final_path_maze)\n",
    "                    mazes.append(final_path_maze)\n",
    "                    mazes.append(final_path_maze)\n",
    "                return {\n",
    "                    'success':True,\n",
    "                    'num_nodes_expanded': num_nodes_expanded,\n",
    "                    'max_tree_depth': max_tree_depth + 1,\n",
    "                    'max_num_nodes_memory': max_num_nodes_memory,\n",
    "                    'max_frontier_size': max_frontier_size,\n",
    "                    'path':full_path,\n",
    "                    'maze_anim':mazes,\n",
    "                    'reached':reached,\n",
    "                    \n",
    "                }\n",
    "            if(child not in reached):\n",
    "                queue.append(child)\n",
    "                reached.append(child)\n",
    "    return {\n",
    "        'success':False,\n",
    "        'num_nodes_expanded': num_nodes_expanded,\n",
    "        'max_tree_depth': max_tree_depth,\n",
    "        'max_num_nodes_memory': max_num_nodes_memory,\n",
    "        'max_frontier_size': max_frontier_size,\n",
    "        'path':None,\n",
    "        'maze_anim':mazes,\n",
    "        'reached':reached,\n",
    "    }\n",
    "def depth_first_search(maze, animate=False):\n",
    "    start = Node(mh.find_pos(maze, what = \"S\"),None,None,0)\n",
    "    start.pos = (start.pos[1],start.pos[0])\n",
    "    goal = Node(mh.find_pos(maze,what=\"G\"),None,None,0)\n",
    "    goal.pos = (goal.pos[1],goal.pos[0])\n",
    "    queue = [start]\n",
    "    reached = [start]\n",
    "    mazes = []\n",
    "    i = 0\n",
    "    while (len(queue) != 0):\n",
    "        # print(i)\n",
    "        if(animate):\n",
    "            currMaze = maze.copy()\n",
    "            helper_functions.paint_path(reached,currMaze,'.')\n",
    "            helper_functions.paint_path(queue,currMaze,'F')\n",
    "            mazes.append(currMaze)\n",
    "        i += 1\n",
    "        curr = queue.pop()\n",
    "        for child in helper_functions.find_children(curr,maze):\n",
    "            if(child == goal):\n",
    "                full_path = child.get_path_from_root()\n",
    "                final_path_maze = maze.copy()\n",
    "                helper_functions.paint_path(full_path,final_path_maze,'P')\n",
    "                mazes.append(final_path_maze)\n",
    "                if(animate):\n",
    "                    mazes.append(final_path_maze)\n",
    "                    mazes.append(final_path_maze)\n",
    "                    mazes.append(final_path_maze)\n",
    "                    mazes.append(final_path_maze)\n",
    "                    mazes.append(final_path_maze)\n",
    "                return {\n",
    "                    'success':True,\n",
    "                    'path':full_path,\n",
    "                    'maze_anim':mazes,\n",
    "                    'reached':reached,\n",
    "                    \n",
    "                }\n",
    "            if(child not in reached):\n",
    "                queue.append(child)\n",
    "                reached.append(child)\n",
    "    return {\n",
    "        'success':False,\n",
    "        'path':None,\n",
    "        'maze_anim':mazes,\n",
    "        'reached':reached,\n",
    "    }\n",
    "def optimal_dfs(maze, max_length=5000,animate=False):\n",
    "    start = Node(mh.find_pos(maze, what = \"S\"),None,None,0)\n",
    "    start.pos = (start.pos[1],start.pos[0])\n",
    "    goal = Node(mh.find_pos(maze,what=\"G\"),None,None,0)\n",
    "    goal.pos = (goal.pos[1],goal.pos[0])\n",
    "    frontier = [start]\n",
    "    mazes = []\n",
    "    i = 0\n",
    "    result = False\n",
    "    curr_length = 0\n",
    "    num_nodes_expanded = 0\n",
    "    max_tree_depth = 0\n",
    "    max_num_nodes_memory = 0\n",
    "    max_frontier_size = 0\n",
    "    while(len(frontier) != 0):\n",
    "        if(len(frontier) > max_frontier_size): max_frontier_size = len(frontier)\n",
    "        curr_node = frontier.pop()\n",
    "        \n",
    "        if(len(curr_node.get_path_from_root()) > max_tree_depth): max_tree_depth = len(curr_node.get_path_from_root())\n",
    "        num_nodes_expanded = num_nodes_expanded + 1\n",
    "        if(len(frontier) + len(curr_node.get_path_from_root()) > max_num_nodes_memory): max_num_nodes_memory = len(frontier) + len(curr_node.get_path_from_root())\n",
    "        \n",
    "        if(animate):\n",
    "            currMaze = maze.copy()\n",
    "            helper_functions.paint_path(frontier,currMaze,'F')\n",
    "            helper_functions.paint_path(curr_node.get_path_from_root(),currMaze,'.')\n",
    "            mazes.append(currMaze)\n",
    "        # print(i)\n",
    "        i += 1\n",
    "        if curr_node == goal or maze[curr_node.pos[1]][curr_node.pos[0]] == 'G':\n",
    "            full_path = child.get_path_from_root()\n",
    "            final_path_maze = maze.copy()\n",
    "            helper_functions.paint_path(full_path,final_path_maze,'P')\n",
    "            mazes.append(final_path_maze)\n",
    "            mazes.append(final_path_maze)\n",
    "            mazes.append(final_path_maze)\n",
    "            mazes.append(final_path_maze)\n",
    "            mazes.append(final_path_maze)\n",
    "            mazes.append(final_path_maze)\n",
    "            return {\n",
    "                'success':True,\n",
    "                'num_nodes_expanded': num_nodes_expanded,\n",
    "                'max_tree_depth': max_tree_depth,\n",
    "                'max_num_nodes_memory': max_num_nodes_memory,\n",
    "                'max_frontier_size': max_frontier_size,\n",
    "                'path': curr_node.get_path_from_root(),\n",
    "                'maze_anim':mazes,\n",
    "                'reached': [],\n",
    "                'cutoff': result\n",
    "            }\n",
    "\n",
    "        path_from_root = curr_node.get_path_from_root()[:-1]\n",
    "        if curr_node.dist_from_start > max_length:\n",
    "            result = True\n",
    "\n",
    "        elif curr_node not in path_from_root:\n",
    "            for child in helper_functions.find_children(curr_node,maze):\n",
    "                frontier.append(child)\n",
    "\n",
    "    return {\n",
    "        'success': False,\n",
    "        'num_nodes_expanded': num_nodes_expanded,\n",
    "        'max_tree_depth': max_tree_depth,\n",
    "        'max_num_nodes_memory': max_num_nodes_memory,\n",
    "        'max_frontier_size': max_frontier_size,\n",
    "        'path':None,\n",
    "        'maze_anim':mazes,\n",
    "        'reached':[],\n",
    "        'cutoff':result\n",
    "    }\n",
    "\n",
    "\n",
    "maze = helper_functions.open_maze('small_maze.txt')\n",
    "\n",
    "result = optimal_dfs(maze,animate=False,max_length=75)\n",
    "mh.show_maze(result['maze_anim'][-1])\n",
    "result = breadth_first_search(maze,animate=False)\n",
    "mh.show_maze(result['maze_anim'][-1])\n",
    "# print(result)\n",
    "# result['path'] = [Node((0,0),None,'east',0)]\n",
    "# result['reached'] = []\n",
    "# helper_functions.animate_maze(result,repeat=False,fileName='DFS_optimal_loops_maze.gif')\n"
   ]
  },
  {
   "cell_type": "markdown",
   "metadata": {},
   "source": [
    "How does BFS and DFS deal with loops (cycles)?"
   ]
  },
  {
   "cell_type": "markdown",
   "metadata": {},
   "source": [
    "## Discussion\n",
    "### BFS\n",
    "    The way that BFS handles cycles is by having a reached data structure that contains all of the already visited nodes. By checking if one of the potential child nodes already exists in this reached DS, BFS is able to simply not revisit nodes that it has already seen before/are in the current path.\n",
    "### DFS\n",
    "    The unoptimized version of DFS also contains a reached data structure and avoids loops in the same way that BFS does. However, the optimized version of DFS only keeps track of the path from it's current frontier node back to the start. This means that it is possible for a node to be visited multiple times, but it will keep track of the path from the current node to the start. This means that the algorithm will never get stuck in a back and forth situation where it continues to run to it's previous node and back again.\n"
   ]
  },
  {
   "cell_type": "markdown",
   "metadata": {},
   "source": [
    "Are your implementations complete and optimal? Explain why. What is the time and space complexity of each of **your** implementations?"
   ]
  },
  {
   "cell_type": "markdown",
   "metadata": {},
   "source": [
    "## Discussion\n",
    "### BFS\n",
    "    BFS is optimal because it will always find the shortest path to the goal by searching each level at a time where a level is one more space away from the start than a previous level. It is also complete because it will find a path if it exists (eventually). The time complexity is equal to b^d where b is the number of nodes created in each level of the tree and d is the depth of the tree. The space complexity is also b^d because it stores every node that it sees in the visited data structure.\n",
    "\n",
    "### DFS\n",
    "    DFS is not optimal because it will return the first path that it finds. The reason that this is a problem is that it will fully explore a path before going back to the frontier, so it will exhaust one entire path first and if that path is able to get to the goal it will return that without checking to see if there was a potentially better option. The time complexity is O(b^m) where b is the branching factor and m is the max depth of the tree. The space complexity however is O(bm) which is really good compared to other search algorithms."
   ]
  },
  {
   "cell_type": "markdown",
   "metadata": {},
   "source": [
    "## Task 3: Informed search: Implement greedy best-first search and A* search  [20 Points]\n",
    "\n",
    "You can use the map to estimate the distance from your current position to the goal using the Manhattan distance (see https://en.wikipedia.org/wiki/Taxicab_geometry) as a heuristic function. Both algorithms are based on Best-First search which requires only a small change from the BFS algorithm you have already implemented (see textbook/slides). "
   ]
  },
  {
   "cell_type": "code",
   "execution_count": 10,
   "metadata": {},
   "outputs": [
    {
     "data": {
      "image/png": "[encoded data removed]",
      "text/plain": [
       "<Figure size 640x480 with 1 Axes>"
      ]
     },
     "metadata": {
      "image/png": {
       "height": 269,
       "width": 534
      }
     },
     "output_type": "display_data"
    },
    {
     "data": {
      "image/png": "[encoded data removed]",
      "text/plain": [
       "<Figure size 640x480 with 1 Axes>"
      ]
     },
     "metadata": {
      "image/png": {
       "height": 269,
       "width": 534
      }
     },
     "output_type": "display_data"
    }
   ],
   "source": [
    "# Your code goes here\n",
    "def greedy_BFS(maze,animate=False):\n",
    "    start = Node(mh.find_pos(maze, what = \"S\"),None,None,0)\n",
    "    start.pos = (start.pos[1],start.pos[0])\n",
    "    goal = Node(mh.find_pos(maze,what=\"G\"),None,None,0)\n",
    "    goal.pos = (goal.pos[1],goal.pos[0])\n",
    "    frontier = [start]\n",
    "    mazes = []\n",
    "    i = 0\n",
    "    num_nodes_expanded = 0\n",
    "    max_tree_depth = 0\n",
    "    max_num_nodes_memory = 0\n",
    "    max_frontier_size = 0\n",
    "    reached = {start:start.cost}\n",
    "    while(len(frontier) != 0 ):\n",
    "        if(animate):\n",
    "            currMaze = maze.copy()\n",
    "            helper_functions.paint_path(reached,currMaze,'.')\n",
    "            helper_functions.paint_path(frontier,currMaze,'F')\n",
    "            mazes.append(currMaze)\n",
    "        \n",
    "        frontier.sort()\n",
    "        if(len(frontier) > max_frontier_size): max_frontier_size = len(frontier)\n",
    "        curr_node = frontier.pop(0)\n",
    "        if(len(curr_node.get_path_from_root()) > max_tree_depth): max_tree_depth = len(curr_node.get_path_from_root())\n",
    "        num_nodes_expanded = num_nodes_expanded + 1\n",
    "        if(len(frontier) + len(reached) > max_num_nodes_memory): max_num_nodes_memory = len(frontier) + len(reached)\n",
    "        \n",
    "        if(curr_node == goal):\n",
    "            full_path = curr_node.get_path_from_root()\n",
    "            final_path_maze = maze.copy()\n",
    "            helper_functions.paint_path(full_path,final_path_maze,'P')\n",
    "            mazes.append(final_path_maze)\n",
    "            mazes.append(final_path_maze)\n",
    "            mazes.append(final_path_maze)\n",
    "            mazes.append(final_path_maze)\n",
    "            mazes.append(final_path_maze)\n",
    "            mazes.append(final_path_maze)\n",
    "            return {\n",
    "                'success':True,\n",
    "                'num_nodes_expanded': num_nodes_expanded,\n",
    "                'max_tree_depth': max_tree_depth,\n",
    "                'max_num_nodes_memory': max_num_nodes_memory,\n",
    "                'max_frontier_size': max_frontier_size,\n",
    "                'path': curr_node.get_path_from_root(),\n",
    "                'maze_anim':mazes,\n",
    "                'reached': reached\n",
    "            }\n",
    "        for child in helper_functions.find_children(curr_node,maze):\n",
    "            child.cost = child.calc_dist_to_goal(goal)\n",
    "            if child not in reached or child.cost < reached[child]:\n",
    "                reached[child] = child.cost\n",
    "                frontier.append(child)\n",
    "                frontier.sort()\n",
    "    return {\n",
    "        'success':False,\n",
    "        'num_nodes_expanded': num_nodes_expanded,\n",
    "        'max_tree_depth': max_tree_depth,\n",
    "        'max_num_nodes_memory': max_num_nodes_memory,\n",
    "        'max_frontier_size': max_frontier_size,\n",
    "        'path': None,\n",
    "        'maze_anim':mazes,\n",
    "        'reached': reached\n",
    "    }\n",
    "\n",
    "def a_star(maze,animate=False):\n",
    "    start = Node(mh.find_pos(maze, what = \"S\"),None,None,0)\n",
    "    start.pos = (start.pos[1],start.pos[0])\n",
    "    goal = Node(mh.find_pos(maze,what=\"G\"),None,None,0)\n",
    "    goal.pos = (goal.pos[1],goal.pos[0])\n",
    "    frontier = [start]\n",
    "    mazes = []\n",
    "    i = 0\n",
    "    num_nodes_expanded = 0\n",
    "    max_tree_depth = 0\n",
    "    max_num_nodes_memory = 0\n",
    "    max_frontier_size = 0\n",
    "    reached = {start:start.cost}\n",
    "    while(len(frontier) != 0 ):\n",
    "        \n",
    "        if(animate):\n",
    "            currMaze = maze.copy()\n",
    "            helper_functions.paint_path(reached,currMaze,'.')\n",
    "            helper_functions.paint_path(frontier,currMaze,'F')\n",
    "            mazes.append(currMaze)\n",
    "        \n",
    "        frontier.sort()\n",
    "        if(len(frontier) > max_frontier_size): max_frontier_size = len(frontier)\n",
    "        \n",
    "        curr_node = frontier.pop(0)\n",
    "        if(len(curr_node.get_path_from_root()) > max_tree_depth): max_tree_depth = len(curr_node.get_path_from_root())\n",
    "        num_nodes_expanded = num_nodes_expanded + 1\n",
    "        if(len(frontier) + len(reached) > max_num_nodes_memory): max_num_nodes_memory = len(frontier) + len(reached)\n",
    "        if(curr_node == goal):\n",
    "            full_path = curr_node.get_path_from_root()\n",
    "            final_path_maze = maze.copy()\n",
    "            helper_functions.paint_path(full_path,final_path_maze,'P')\n",
    "            mazes.append(final_path_maze)\n",
    "            mazes.append(final_path_maze)\n",
    "            mazes.append(final_path_maze)\n",
    "            mazes.append(final_path_maze)\n",
    "            mazes.append(final_path_maze)\n",
    "            mazes.append(final_path_maze)\n",
    "            return {\n",
    "                'success':True,\n",
    "                'num_nodes_expanded': num_nodes_expanded,\n",
    "                'max_tree_depth': max_tree_depth,\n",
    "                'max_num_nodes_memory': max_num_nodes_memory,\n",
    "                'max_frontier_size': max_frontier_size,\n",
    "                'path': curr_node.get_path_from_root(),\n",
    "                'maze_anim':mazes,\n",
    "                'reached': reached\n",
    "            }\n",
    "        for child in helper_functions.find_children(curr_node,maze):\n",
    "            child.cost = child.calc_dist_to_goal(goal) + len(child.get_path_from_root()) - 1\n",
    "            if child not in reached or child.cost < reached[child]:\n",
    "                reached[child] = child.cost\n",
    "                frontier.append(child)\n",
    "                frontier.sort()\n",
    "    return {\n",
    "        'success':False,\n",
    "        'num_nodes_expanded': num_nodes_expanded,\n",
    "        'max_tree_depth': max_tree_depth,\n",
    "        'max_num_nodes_memory': max_num_nodes_memory,\n",
    "        'max_frontier_size': max_frontier_size,\n",
    "        'path': None,\n",
    "        'maze_anim':mazes,\n",
    "        'reached': reached\n",
    "    }  \n",
    "\n",
    "\n",
    "maze = helper_functions.open_maze('small_maze.txt')\n",
    "\n",
    "result = greedy_BFS(maze,animate=False)\n",
    "\n",
    "mh.show_maze(result['maze_anim'][-1])\n",
    "\n",
    "result = a_star(maze,animate=False)\n",
    "\n",
    "mh.show_maze(result['maze_anim'][-1])\n",
    "# helper_functions.animate_maze(result,repeat=False,fileName='Greedy_small_maze.gif')"
   ]
  },
  {
   "cell_type": "markdown",
   "metadata": {},
   "source": [
    "Are your implementations complete and optimal? What is the time and space complexity?"
   ]
  },
  {
   "cell_type": "markdown",
   "metadata": {},
   "source": [
    "## Discussion\n",
    "### GBS\n",
    "    Greedy best first search is complete in that it will always find a solution in a finite space (assuming a possible solution exists) however, it is not optimal. It is not optimal because it only looks at the heuristic value to determine if it's next move is a good one. This could cause it to take a longer total path to get to the goal because it tried to rush straight to it completely disreguarding how far is has already moved from the start. The time complexity and space complexity is O(b^m) where b is the max branching factor and m is the max depth of the tree. \n",
    "### A Star\n",
    "    A star search is complete in finite spaces because it will always find the solution if one exists, but unlike GFS, it is also optimal. A star is optimal because it takes into account a heuristic as well as how far it has already traveled. This removes the problem that GBS has because A star will notice if it has gone too far from the start and back track to a different frontier node to see if it is possible to move in such a way that the heuristic value may rise temporarily which allows it to find the optimal path."
   ]
  },
  {
   "cell_type": "markdown",
   "metadata": {},
   "source": [
    "## Task 4: Comparison and discussion [20 Points] \n",
    "\n",
    "Run experiments to compare the implemented algorithms.\n",
    "\n",
    "How to deal with issues:\n",
    "\n",
    "* Your implementation returns unexpected results: Try to debug and fix the code. Visualizing the maze, the current path and the frontier after every step is very helpful. If the code still does not work, then mark the result with an asterisk (*) and describe the issue below the table.\n",
    "\n",
    "* Your implementation cannot consistently solve a specific maze and ends up in an infinite loop:\n",
    "    Debug. If it is a shortcoming of the algorithm/implementation, then put \"N/A*\" in the results table and describe why this is happening."
   ]
  },
  {
   "cell_type": "code",
   "execution_count": 11,
   "metadata": {},
   "outputs": [
    {
     "name": "stdout",
     "output_type": "stream",
     "text": [
      "| algorithm | path cost | # of nodes expanded | max tree depth | max # of nodes in memory | max frontier size |\n",
      "|-----------|-----------|----------------|----------------|---------------|-------------------|\n",
      "| BFS\t|24.0\t|70.0\t|24.0\t|72.0\t|7.9\t|\n",
      "| GBS\t|24.0\t|52.0\t|24.0\t|69.4\t|9.7\t|\n",
      "| A_Star\t|24.0\t|60.0\t|24.0\t|66.0\t|6.0\t|\n"
     ]
    }
   ],
   "source": [
    "# Add code\n",
    "import json\n",
    "def run_all_search(maze_file_path,algos,num_iterations=10):\n",
    "    \n",
    "    result = {}\n",
    "    maze = helper_functions.open_maze(maze_file_path)\n",
    "    for val in algos:\n",
    "        values = {\n",
    "            'path_cost':0,\n",
    "            'num_nodes_expanded':0,\n",
    "            'max_tree_depth':0,\n",
    "            'max_num_nodes_memory':0,\n",
    "            'max_frontier_size':0\n",
    "        }\n",
    "        \n",
    "        for i in range(num_iterations):\n",
    "            curr_result = algos[val](maze,animate=False)\n",
    "            values['path_cost'] += len(curr_result['path'])\n",
    "            values['num_nodes_expanded'] += curr_result['num_nodes_expanded']\n",
    "            values['max_tree_depth'] += curr_result['max_tree_depth']\n",
    "            values['max_num_nodes_memory'] += curr_result['max_num_nodes_memory']\n",
    "            values['max_frontier_size'] += curr_result['max_frontier_size']\n",
    "        for entry in values:\n",
    "            values[entry] = values[entry] / num_iterations\n",
    "        result[val] = values\n",
    "    return result\n",
    "\n",
    "algos = {\n",
    "        'BFS':breadth_first_search,\n",
    "        'GBS':greedy_BFS,\n",
    "        'A_Star':a_star\n",
    "    }\n",
    "\n",
    "res = run_all_search('loops_maze.txt',algos,num_iterations=10)\n",
    "\n",
    "print('| algorithm | path cost | # of nodes expanded | max tree depth | max # of nodes in memory | max frontier size |')\n",
    "print('|-----------|-----------|----------------|----------------|---------------|-------------------|')\n",
    "for val in res:\n",
    "    print('|',val,end='\\t|')\n",
    "    for name in res[val]:\n",
    "        print(res[val][name],end='\\t|')\n",
    "    print()"
   ]
  },
  {
   "cell_type": "markdown",
   "metadata": {},
   "source": [
    "Complete the following table for each maze.\n",
    "Note that the DFS implementation took too long to finish open mazes or mazes wirh loops because it's ability to determine which square to go to next was randomized so it would continually attempt to get out by just choosing the correct random value\n",
    "__Small maze__\n",
    "\n",
    "| algorithm | path cost | # of nodes expanded | max tree depth | max # of nodes in memory | max frontier size |\n",
    "|-----------|-----------|----------------|----------------|---------------|-------------------|\n",
    "| BFS       |20.0           |   90.1             |   19.0             |    93.2           |     8.7              |\n",
    "| DFS       |38.0           |94.6                |40.4                |64.8               |25.5                   |\n",
    "| GBS       |30.0           |40.0                |30.0                |48.0               |5.0                   |\n",
    "| A*        |20.0           |54.0                |20.0                |65.0               |8.0                   |\n",
    "\n",
    "__Medium Maze__\n",
    "\n",
    "| algorithm | path cost | # of nodes expanded | max tree depth | max # of nodes in memory | max frontier size |\n",
    "|-----------|-----------|----------------|----------------|---------------|-------------------|\n",
    "| BFS          |69.0           |266.1             |68.0             |271.4           |8.1              |\n",
    "| DFS       |147.6.0           |325.7                |156.6                |243.4               |88.3                   |\n",
    "| GBS       |129.6.0           |135.1.0                |129.6.0                |146.7              |6.8                   |\n",
    "| A*        |69.0           |223.0                |69.0                |234.0               |8.0                   |\n",
    "\n",
    "__Large Maze__\n",
    "\n",
    "| algorithm | path cost | # of nodes expanded | max tree depth | max # of nodes in memory | max frontier size |\n",
    "|-----------|-----------|----------------|----------------|---------------|-------------------|\n",
    "| BFS\t|211.0\t|617.3\t|210.0\t|623.3\t|8.1\t|\n",
    "| DFS\t|211.0\t|782.4\t|221.2\t|364.1\t|144.1\t|\n",
    "| GBS\t|211.0\t|461.3\t|211.0\t|504.1\t|22.4\t|\n",
    "| A_Star\t|211.0\t|550.0\t|211.0\t|564.0\t|12.0\t|\n",
    "\n",
    "__Wall Maze__\n",
    "\n",
    "| algorithm | path cost | # of nodes expanded | max tree depth | max # of nodes in memory | max frontier size |\n",
    "|-----------|-----------|----------------|----------------|---------------|-------------------|\n",
    "| BFS\t|15.0\t|84.9\t|14.0\t|91.0\t|9.8\t|\n",
    "| GBS\t|15.8\t|20.0\t|15.8\t|68.0\t|25.0\t|\n",
    "| A_Star\t|15.0\t|57.0\t|15.0\t|117.0\t|31.0\t|\n",
    "\n",
    "__Empty Maze__\n",
    "\n",
    "| algorithm | path cost | # of nodes expanded | max tree depth | max # of nodes in memory | max frontier size |\n",
    "|-----------|-----------|----------------|----------------|---------------|-------------------|\n",
    "| BFS\t|15.0\t|91.6\t|14.0\t|98.3\t|12.0\t|\n",
    "| GBS\t|15.0\t|15.0\t|15.0\t|61.4\t|24.2\t|\n",
    "| A_Star\t|15.0\t|64.0\t|15.0\t|124.0\t|31.0\t|\n",
    "\n",
    "__Empty 2 Maze__\n",
    "\n",
    "| algorithm | path cost | # of nodes expanded | max tree depth | max # of nodes in memory | max frontier size |\n",
    "|-----------|-----------|----------------|----------------|---------------|-------------------|\n",
    "| BFS\t|15.0\t|91.7\t|14.0\t|98.1\t|12.0\t|\n",
    "| GBS\t|15.0\t|15.0\t|15.0\t|60.0\t|23.5\t|\n",
    "| A_Star\t|15.0\t|64.0\t|15.0\t|124.0\t|31.0\t|\n",
    "\n",
    "__L Maze__\n",
    "\n",
    "| algorithm | path cost | # of nodes expanded | max tree depth | max # of nodes in memory | max frontier size |\n",
    "|-----------|-----------|----------------|----------------|---------------|-------------------|\n",
    "| BFS\t|15.0\t|135.1\t|14.0\t|147.2\t|18.5\t|\n",
    "| GBS\t|17.8\t|23.2\t|17.8\t|72.0\t|25.4\t|\n",
    "| A_Star\t|15.0\t|43.0\t|15.0\t|89.0\t|24.0\t|\n",
    "\n",
    "__Loops Maze__\n",
    "\n",
    "| algorithm | path cost | # of nodes expanded | max tree depth | max # of nodes in memory | max frontier size |\n",
    "|-----------|-----------|----------------|----------------|---------------|-------------------|\n",
    "| BFS\t|24.0\t|70.0\t|23.0\t|72.0\t|7.8\t|\n",
    "| GBS\t|24.0\t|52.0\t|24.0\t|69.4\t|9.8\t|\n",
    "| A_Star\t|24.0\t|60.0\t|24.0\t|66.0\t|5.9\t|\n"
   ]
  },
  {
   "cell_type": "markdown",
   "metadata": {},
   "source": [
    "Discuss the most important lessons you have learned from implementing the different search strategies. "
   ]
  },
  {
   "cell_type": "markdown",
   "metadata": {},
   "source": [
    "The most important thing that I learned was how much memory some of these algorithms require to find the correct solution due to how some of them need to be able to avoid cycles. It was also interesting to create a search algorithm that did not use an adjacency list because that was all that I have done up until this point. Another important thing that I realized was that DFS, when implemented correctly for AI, is a useful tool because it is able to clear the nodes from memory. However, this really only works in mazes that are not open and do not have loops because it's way of getting out of a loop was by randomly choosing the order to add child nodes to the frontier such that it would eventually get lucky and get out of the loop but this is not a very practical solution."
   ]
  },
  {
   "cell_type": "markdown",
   "metadata": {},
   "source": [
    "## Graduate student advanced task: IDS and Multiple goals [10 Points]\n",
    "\n",
    "__Undergraduate students:__ This is a bonus task you can attempt if you like [+5 Bonus Points].\n",
    "\n",
    "Create a few mazes with multiple goals by adding one or two more goals to the medium size maze.\n",
    "Solve the maze with your implementations for DFS, BFS, and implement in addition IDS (iterative deepening search using DFS). \n",
    "\n",
    "Run experiments to show which implementations find the optimal solution and which do not. Discuss why that is the case."
   ]
  },
  {
   "cell_type": "code",
   "execution_count": 12,
   "metadata": {},
   "outputs": [
    {
     "name": "stdout",
     "output_type": "stream",
     "text": [
      "| algorithm | path cost | # of nodes expanded | max tree depth | max # of nodes in memory | max frontier size |\n",
      "|-----------|-----------|----------------|----------------|---------------|-------------------|\n",
      "| IDS\t|35.0\t|135.1\t|35.0\t|57.1\t|23.1\t|\n",
      "| DFS\t|93.0\t|185.3\t|100.6\t|159.1\t|59.5\t|\n",
      "| BFS\t|35.0\t|109.8\t|35.0\t|123.8\t|8.2\t|\n"
     ]
    }
   ],
   "source": [
    "def IDS(maze, animate=False):\n",
    "    for i in range(5000):\n",
    "        result = optimal_dfs(maze,max_length=i,animate=animate)\n",
    "        if result['success']:\n",
    "            return result\n",
    "    return {\n",
    "        'success':False\n",
    "    }\n",
    "    \n",
    "\n",
    "algos = {\n",
    "    'IDS': IDS,\n",
    "    'DFS':optimal_dfs,\n",
    "    'BFS':breadth_first_search\n",
    "}\n",
    "\n",
    "res = run_all_search('medium_maze_2_goal.txt',algos,num_iterations=10)\n",
    "\n",
    "print('| algorithm | path cost | # of nodes expanded | max tree depth | max # of nodes in memory | max frontier size |')\n",
    "print('|-----------|-----------|----------------|----------------|---------------|-------------------|')\n",
    "for val in res:\n",
    "    print('|',val,end='\\t|')\n",
    "    for name in res[val]:\n",
    "        print(res[val][name],end='\\t|')\n",
    "    print()"
   ]
  },
  {
   "cell_type": "markdown",
   "metadata": {},
   "source": [
    "### Disussion\n",
    "    Both IDS and BFS were able to find the optimal solution path because BFS will always find the shortest path and IDS will basically run optimized DFS with increasing max depths until it finds the solution. Previously, DFS was unable to find the optimal solution because it would run all the way down a single path and return the first valid path that it found but IDS removes this issue by having DFS act a bit more like BFS in that it will only go so far from the start node each time. By setting the step size of IDS to 1, we are able to ensure that the best solution is found while also being able to keep the number of nodes in memory to a minimum (as can be seen in the chart below)."
   ]
  },
  {
   "cell_type": "markdown",
   "metadata": {},
   "source": [
    "| algorithm | path cost | # of nodes expanded | max tree depth | max # of nodes in memory | max frontier size |\n",
    "|-----------|-----------|----------------|----------------|---------------|-------------------|\n",
    "| IDS\t|35.0\t|162.9\t|35.0\t|58.0\t|24.0\t|\n",
    "| DFS\t|99.2\t|241.9\t|125.5\t|199.6\t|75.1\t|\n",
    "| BFS\t|35.0\t|109.1\t|35.0\t|123.2\t|8.1\t|"
   ]
  },
  {
   "cell_type": "markdown",
   "metadata": {},
   "source": [
    "## More advanced tasks to think about\n",
    "\n",
    "Instead of defining each square as a state, use only intersections as states. Now the storage requirement is reduced, but the path length between two intersections can be different. If we use total path length measured as the number of squares as path cost, how can we make sure that BFS and iterative deepening search is optimal? Change the code to do so."
   ]
  },
  {
   "cell_type": "code",
   "execution_count": 13,
   "metadata": {},
   "outputs": [],
   "source": [
    "# Your code/answer goes here"
   ]
  },
  {
   "cell_type": "markdown",
   "metadata": {},
   "source": [
    "Modify your A* search to add weights (see text book) and explore how different weights influence the result."
   ]
  },
  {
   "cell_type": "code",
   "execution_count": 14,
   "metadata": {},
   "outputs": [],
   "source": [
    "# Your code/answer goes here"
   ]
  },
  {
   "cell_type": "markdown",
   "metadata": {},
   "source": [
    "What happens if the agent does not know the layout of the maze in advance (i.e., faces an unkown, only partially observable environment)? How does the environment look then (PEAS description)? How would you implement a rational agent to solve the maze? What if the agent still has a GPS device to tell the distance to the goal?"
   ]
  },
  {
   "cell_type": "code",
   "execution_count": 15,
   "metadata": {},
   "outputs": [],
   "source": [
    "# Your code/answer goes here"
   ]
  }
 ],
 "metadata": {
  "kernelspec": {
   "display_name": "Python 3 (ipykernel)",
   "language": "python",
   "name": "python3"
  },
  "language_info": {
   "codemirror_mode": {
    "name": "ipython",
    "version": 3
   },
   "file_extension": ".py",
   "mimetype": "text/x-python",
   "name": "python",
   "nbconvert_exporter": "python",
   "pygments_lexer": "ipython3",
   "version": "3.10.7"
  },
  "vscode": {
   "interpreter": {
    "hash": "b0fa6594d8f4cbf19f97940f81e996739fb7646882a419484c72d19e05852a7e"
   }
  }
 },
 "nbformat": 4,
 "nbformat_minor": 4
}
